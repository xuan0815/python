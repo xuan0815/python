{
  "nbformat": 4,
  "nbformat_minor": 0,
  "metadata": {
    "colab": {
      "name": "04.5.ipynb",
      "provenance": [],
      "collapsed_sections": []
    },
    "kernelspec": {
      "name": "python3",
      "display_name": "Python 3"
    },
    "language_info": {
      "name": "python"
    }
  },
  "cells": [
    {
      "cell_type": "markdown",
      "source": [
        "# 函式(數)"
      ],
      "metadata": {
        "id": "EIPIqa8nB01R"
      }
    },
    {
      "cell_type": "markdown",
      "source": [
        "## 傳統的寫法"
      ],
      "metadata": {
        "id": "mcLtIohJErQm"
      }
    },
    {
      "cell_type": "code",
      "execution_count": 17,
      "metadata": {
        "colab": {
          "base_uri": "https://localhost:8080/"
        },
        "id": "Ne4l8zeqBZAs",
        "outputId": "8794722e-b27d-49d4-b5dc-7608b8f0dce6"
      },
      "outputs": [
        {
          "output_type": "stream",
          "name": "stdout",
          "text": [
            "請輸入圓的半徑：3.14\n",
            "圓的面積為： 30.974846927333925\n"
          ]
        }
      ],
      "source": [
        "import math\n",
        "radius = eval(input(\"請輸入圓的半徑：\")) #把輸入的字串變成數學計算型態\n",
        "print(\"圓的面積為：\", radius * radius * math.pi) #最後結果顯示圓的面積為 利用公式radius * radius * math.pi計算"
      ]
    },
    {
      "cell_type": "markdown",
      "source": [
        "## 面積計算函式"
      ],
      "metadata": {
        "id": "oC7XL9UtEuvA"
      }
    },
    {
      "cell_type": "code",
      "source": [
        "import math\n",
        "def circle_area(radius):\n",
        "    area = radius * radius * math.pi #與上面最不同的是它是直接計算面積函式\n",
        "    return area\n",
        "\n",
        "print(circle_area(10))"
      ],
      "metadata": {
        "colab": {
          "base_uri": "https://localhost:8080/"
        },
        "id": "hOthaC2NB6tv",
        "outputId": "b39201db-440d-44a0-8a4e-74d957560e99"
      },
      "execution_count": 18,
      "outputs": [
        {
          "output_type": "stream",
          "name": "stdout",
          "text": [
            "314.1592653589793\n"
          ]
        }
      ]
    }
  ]
}